{
 "cells": [
  {
   "cell_type": "code",
   "execution_count": 1,
   "id": "78f3eeae",
   "metadata": {},
   "outputs": [
    {
     "name": "stdout",
     "output_type": "stream",
     "text": [
      "Column 1: Name, Column 2: Age\n",
      "Column 1: John, Column 2: 30\n",
      "Column 1: Alice, Column 2: 25\n",
      "Column 1: Bob, Column 2: 35\n",
      "Column 1: Eve, Column 2: 40\n",
      "Column 1: Michael, Column 2: 45\n"
     ]
    }
   ],
   "source": [
    "import csv\n",
    "\n",
    "# Define the path to your CSV file\n",
    "csv_file_path = \"C:/Users/KarangulaTunisha/Downloads/twitter_training.csv (2)/twitter_training.csv\"\n",
    "\n",
    "# Open the CSV file\n",
    "with open(csv_file_path, 'r') as file:\n",
    "    # Create a CSV reader object\n",
    "    csv_reader = csv.reader(file)\n",
    "    \n",
    "    # Iterate over each row in the CSV file\n",
    "    for row in csv_reader:\n",
    "        # Access each column in the row\n",
    "        column1 = row[0]  # Assuming the first column\n",
    "        column2 = row[1]  # Assuming the second column\n",
    "        # Add more columns as needed\n",
    "        \n",
    "        # Perform operations with the data\n",
    "        # For example, print the values of the columns\n",
    "        print(f\"Column 1: {column1}, Column 2: {column2}\")"
   ]
  },
  {
   "cell_type": "code",
   "execution_count": 2,
   "id": "4f81ae85",
   "metadata": {},
   "outputs": [
    {
     "name": "stdout",
     "output_type": "stream",
     "text": [
      "Name: John, Age: 30, City: New York\n",
      "Name: Alice, Age: 25, City: Los Angeles\n",
      "Name: Bob, Age: 35, City: Chicago\n",
      "Name: Eve, Age: 40, City: Houston\n",
      "Name: Michael, Age: 45, City: Miami\n"
     ]
    }
   ],
   "source": [
    "import csv\n",
    "\n",
    "# Define the path to your CSV file\n",
    "csv_file_path = \"C:/Users/KarangulaTunisha/Downloads/twitter_training.csv (2)/twitter_training.csv\"\n",
    "\n",
    "# Open the CSV file\n",
    "with open(csv_file_path, 'r') as file:\n",
    "    # Create a CSV reader object\n",
    "    csv_reader = csv.DictReader(file)\n",
    "    \n",
    "    # Iterate over each row in the CSV file\n",
    "    for row in csv_reader:\n",
    "        # Access data in each row using column headers\n",
    "        name = row['Name']\n",
    "        age = row['Age']\n",
    "        city = row['City']\n",
    "        print(f\"Name: {name}, Age: {age}, City: {city}\")\n",
    "\n"
   ]
  },
  {
   "cell_type": "code",
   "execution_count": 3,
   "id": "4e0d6839",
   "metadata": {},
   "outputs": [
    {
     "name": "stdout",
     "output_type": "stream",
     "text": [
      "Column Names: ['Name', 'Age', 'City']\n"
     ]
    },
    {
     "data": {
      "image/png": "[encoded data removed]",
      "text/plain": [
       "<Figure size 1000x600 with 1 Axes>"
      ]
     },
     "metadata": {},
     "output_type": "display_data"
    },
    {
     "name": "stdout",
     "output_type": "stream",
     "text": [
      "Overall neutral sentiment.\n"
     ]
    }
   ],
   "source": [
    "import csv\n",
    "import pandas as pd\n",
    "import matplotlib.pyplot as plt\n",
    "\n",
    "# Step 1: Read Data from CSV File\n",
    "def read_csv(file_path):\n",
    "    with open(file_path, 'r', encoding='utf-8') as file:\n",
    "        reader = csv.DictReader(file)\n",
    "        column_names = reader.fieldnames\n",
    "        print(\"Column Names:\", column_names)  # Print column names\n",
    "        data = [row[column_names[0]] for row in reader]  # Assuming the first column contains the text data\n",
    "    return data\n",
    "\n",
    "\n",
    "# Step 2: Perform Sentiment Analysis\n",
    "def analyze_sentiment(text):\n",
    "    positive_words = ['good', 'great', 'excellent', 'awesome', 'fantastic']\n",
    "    negative_words = ['bad', 'poor', 'terrible', 'awful', 'horrible']\n",
    "\n",
    "    # Count positive and negative words in the text\n",
    "    num_positive = sum(text.lower().count(word) for word in positive_words)\n",
    "    num_negative = sum(text.lower().count(word) for word in negative_words)\n",
    "\n",
    "    # Calculate sentiment score\n",
    "    sentiment_score = (num_positive - num_negative) / max(len(text.split()), 1)  # Avoid division by zero\n",
    "\n",
    "    return sentiment_score\n",
    "\n",
    "# Step 3: Aggregate Sentiment Scores\n",
    "def aggregate_sentiment(data):\n",
    "    sentiment_scores = [analyze_sentiment(text) for text in data]\n",
    "    return sentiment_scores\n",
    "\n",
    "# Step 4: Visualize Sentiment Patterns\n",
    "def visualize_sentiment(sentiment_scores):\n",
    "    df = pd.DataFrame(sentiment_scores, columns=['Sentiment'])\n",
    "    df['Date'] = pd.date_range(start='1/1/2022', periods=len(sentiment_scores), freq='D')\n",
    "    df.set_index('Date', inplace=True)\n",
    "    df['Rolling Average'] = df['Sentiment'].rolling(window=7).mean()  # 7-day rolling average\n",
    "\n",
    "    plt.figure(figsize=(10, 6))\n",
    "    plt.plot(df.index, df['Sentiment'], label='Sentiment Score', color='skyblue')\n",
    "    plt.plot(df.index, df['Rolling Average'], label='7-day Rolling Average', color='orange')\n",
    "    plt.title('Sentiment Analysis')\n",
    "    plt.xlabel('Date')\n",
    "    plt.ylabel('Sentiment Score')\n",
    "    plt.legend()\n",
    "    plt.grid(True)\n",
    "    plt.show()\n",
    "\n",
    "# Step 5: Interpretation and Insights\n",
    "def interpret_sentiment(sentiment_scores):\n",
    "    avg_sentiment = sum(sentiment_scores) / len(sentiment_scores)\n",
    "    if avg_sentiment > 0:\n",
    "        print(\"Overall positive sentiment.\")\n",
    "    elif avg_sentiment < 0:\n",
    "        print(\"Overall negative sentiment.\")\n",
    "    else:\n",
    "        print(\"Overall neutral sentiment.\")\n",
    "\n",
    "# Main function\n",
    "def main():\n",
    "    file_path = \"C:/Users/KarangulaTunisha/Downloads/twitter_training.csv (2)/twitter_training.csv\"\n",
    "\n",
    "    # Step 1: Read Data from CSV File\n",
    "    data = read_csv(file_path)\n",
    "\n",
    "    # Step 2: Perform Sentiment Analysis\n",
    "    sentiment_scores = aggregate_sentiment(data)\n",
    "\n",
    "    # Step 4: Visualize Sentiment Patterns\n",
    "    visualize_sentiment(sentiment_scores)\n",
    "\n",
    "    # Step 5: Interpretation and Insights\n",
    "    interpret_sentiment(sentiment_scores)\n",
    "\n",
    "if __name__ == \"__main__\":\n",
    "    main()\n"
   ]
  },
  {
   "cell_type": "code",
   "execution_count": null,
   "id": "ac0357bb",
   "metadata": {},
   "outputs": [],
   "source": []
  }
 ],
 "metadata": {
  "kernelspec": {
   "display_name": "Python 3 (ipykernel)",
   "language": "python",
   "name": "python3"
  },
  "language_info": {
   "codemirror_mode": {
    "name": "ipython",
    "version": 3
   },
   "file_extension": ".py",
   "mimetype": "text/x-python",
   "name": "python",
   "nbconvert_exporter": "python",
   "pygments_lexer": "ipython3",
   "version": "3.11.5"
  }
 },
 "nbformat": 4,
 "nbformat_minor": 5
}
